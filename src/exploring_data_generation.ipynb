{
 "cells": [
  {
   "cell_type": "code",
   "execution_count": 32,
   "metadata": {},
   "outputs": [],
   "source": [
    "from gen_data_and_simulate_drift import DriftIntensity, DriftSimulator, GenerateFakeData\n",
    "from training_script import Classifier"
   ]
  },
  {
   "cell_type": "code",
   "execution_count": 33,
   "metadata": {},
   "outputs": [],
   "source": [
    "import pandas as pd\n",
    "import numpy as np\n",
    "import joblib\n",
    "from sklearn.preprocessing import OrdinalEncoder"
   ]
  },
  {
   "cell_type": "code",
   "execution_count": 34,
   "metadata": {},
   "outputs": [
    {
     "name": "stdout",
     "output_type": "stream",
     "text": [
      "The autoreload extension is already loaded. To reload it, use:\n",
      "  %reload_ext autoreload\n"
     ]
    }
   ],
   "source": [
    "%load_ext autoreload\n",
    "%autoreload 2"
   ]
  },
  {
   "cell_type": "code",
   "execution_count": 26,
   "metadata": {},
   "outputs": [],
   "source": [
    "DATA_PATH = '../datasets/'\n",
    "MODEL_PATH = '../models/'"
   ]
  },
  {
   "cell_type": "markdown",
   "metadata": {},
   "source": [
    "### Exploring the generator class"
   ]
  },
  {
   "cell_type": "code",
   "execution_count": 164,
   "metadata": {},
   "outputs": [],
   "source": [
    "pokemon_test_data='bank_num.csv'\n",
    "df = pd.read_csv(DATA_PATH + pokemon_test_data )"
   ]
  },
  {
   "cell_type": "code",
   "execution_count": 165,
   "metadata": {},
   "outputs": [
    {
     "name": "stdout",
     "output_type": "stream",
     "text": [
      "<class 'pandas.core.frame.DataFrame'>\n",
      "RangeIndex: 11162 entries, 0 to 11161\n",
      "Data columns (total 17 columns):\n",
      " #   Column     Non-Null Count  Dtype\n",
      "---  ------     --------------  -----\n",
      " 0   age        11162 non-null  int64\n",
      " 1   job        11162 non-null  int64\n",
      " 2   marital    11162 non-null  int64\n",
      " 3   education  11162 non-null  int64\n",
      " 4   default    11162 non-null  int64\n",
      " 5   balance    11162 non-null  int64\n",
      " 6   housing    11162 non-null  int64\n",
      " 7   loan       11162 non-null  int64\n",
      " 8   contact    11162 non-null  int64\n",
      " 9   day        11162 non-null  int64\n",
      " 10  month      11162 non-null  int64\n",
      " 11  duration   11162 non-null  int64\n",
      " 12  campaign   11162 non-null  int64\n",
      " 13  pdays      11162 non-null  int64\n",
      " 14  previous   11162 non-null  int64\n",
      " 15  poutcome   11162 non-null  int64\n",
      " 16  deposit    11162 non-null  int64\n",
      "dtypes: int64(17)\n",
      "memory usage: 1.4 MB\n"
     ]
    }
   ],
   "source": [
    "df.info()"
   ]
  },
  {
   "cell_type": "code",
   "execution_count": 163,
   "metadata": {},
   "outputs": [
    {
     "name": "stdout",
     "output_type": "stream",
     "text": [
      "default\n"
     ]
    },
    {
     "ename": "TypeError",
     "evalue": "object of type 'GaussianMultivariate' has no len()",
     "output_type": "error",
     "traceback": [
      "\u001b[0;31m---------------------------------------------------------------------------\u001b[0m",
      "\u001b[0;31mTypeError\u001b[0m                                 Traceback (most recent call last)",
      "Cell \u001b[0;32mIn[163], line 3\u001b[0m\n\u001b[1;32m      1\u001b[0m SAMPLE_SIZE\u001b[39m=\u001b[39m\u001b[39m1000\u001b[39m\n\u001b[1;32m      2\u001b[0m target \u001b[39m=\u001b[39m \u001b[39m'\u001b[39m\u001b[39mdefault\u001b[39m\u001b[39m'\u001b[39m\n\u001b[0;32m----> 3\u001b[0m genertor_fake_data \u001b[39m=\u001b[39m GenerateFakeData(path_ref_data\u001b[39m=\u001b[39;49mDATA_PATH\u001b[39m+\u001b[39;49m\u001b[39m'\u001b[39;49m\u001b[39mbank_num.csv\u001b[39;49m\u001b[39m'\u001b[39;49m, sample_size\u001b[39m=\u001b[39;49mSAMPLE_SIZE, target\u001b[39m=\u001b[39;49mtarget, model_name \u001b[39m=\u001b[39;49m \u001b[39m'\u001b[39;49m\u001b[39mbank_generator.pkl\u001b[39;49m\u001b[39m'\u001b[39;49m)\n",
      "File \u001b[0;32m~/Tresorit/Documents/Mandats/RocketScience/MPM/pulsar_demo/src/gen_data_and_simulate_drift.py:105\u001b[0m, in \u001b[0;36mGenerateFakeData.__init__\u001b[0;34m(self, path_ref_data, sample_size, sampling_method, target, model_name)\u001b[0m\n\u001b[1;32m    103\u001b[0m \u001b[39m# logging.INFO('Generate fake/synthetic data...')\u001b[39;00m\n\u001b[1;32m    104\u001b[0m \u001b[39mif\u001b[39;00m \u001b[39mself\u001b[39m\u001b[39m.\u001b[39msampling_method \u001b[39m==\u001b[39m SamplingMethod\u001b[39m.\u001b[39mCOPULAS_GAUSS_MULT:\n\u001b[0;32m--> 105\u001b[0m     \u001b[39mself\u001b[39;49m\u001b[39m.\u001b[39;49mgenerate_fake_data_using_copulas()\n",
      "File \u001b[0;32m~/Tresorit/Documents/Mandats/RocketScience/MPM/pulsar_demo/src/gen_data_and_simulate_drift.py:158\u001b[0m, in \u001b[0;36mGenerateFakeData.generate_fake_data_using_copulas\u001b[0;34m(self)\u001b[0m\n\u001b[1;32m    154\u001b[0m     \u001b[39m# Setting the right data types\u001b[39;00m\n\u001b[1;32m    156\u001b[0m \u001b[39mself\u001b[39m\u001b[39m.\u001b[39mdf_samples \u001b[39m=\u001b[39m \u001b[39mself\u001b[39m\u001b[39m.\u001b[39mdf_samples\u001b[39m.\u001b[39mastype(\u001b[39mself\u001b[39m\u001b[39m.\u001b[39mdict_col_type)\n\u001b[0;32m--> 158\u001b[0m \u001b[39mif\u001b[39;00m (\u001b[39mlen\u001b[39;49m(\u001b[39mself\u001b[39;49m\u001b[39m.\u001b[39;49mmodel) \u001b[39m!=\u001b[39m\u001b[39m0\u001b[39m) \u001b[39m&\u001b[39m (\u001b[39mself\u001b[39m\u001b[39m.\u001b[39mmodel_name \u001b[39m!=\u001b[39m \u001b[39m'\u001b[39m\u001b[39m'\u001b[39m):\n\u001b[1;32m    159\u001b[0m     \u001b[39mwith\u001b[39;00m \u001b[39mopen\u001b[39m (\u001b[39mself\u001b[39m\u001b[39m.\u001b[39mmodel_path, \u001b[39m'\u001b[39m\u001b[39mwb\u001b[39m\u001b[39m'\u001b[39m) \u001b[39mas\u001b[39;00m f:\n\u001b[1;32m    160\u001b[0m         pickle\u001b[39m.\u001b[39mdump(\u001b[39mself\u001b[39m\u001b[39m.\u001b[39mmodel, f)\n",
      "\u001b[0;31mTypeError\u001b[0m: object of type 'GaussianMultivariate' has no len()"
     ]
    }
   ],
   "source": [
    "SAMPLE_SIZE=1000\n",
    "target = 'default'\n",
    "genertor_fake_data = GenerateFakeData(path_ref_data=DATA_PATH+'bank_num.csv', sample_size=SAMPLE_SIZE, target=target, model_name = 'bank_generator.pkl')"
   ]
  },
  {
   "cell_type": "code",
   "execution_count": 77,
   "metadata": {},
   "outputs": [
    {
     "name": "stdout",
     "output_type": "stream",
     "text": [
      "<class 'pandas.core.frame.DataFrame'>\n",
      "RangeIndex: 800 entries, 0 to 799\n",
      "Data columns (total 10 columns):\n",
      " #   Column      Non-Null Count  Dtype\n",
      "---  ------      --------------  -----\n",
      " 0   #           800 non-null    int64\n",
      " 1   Total       800 non-null    int64\n",
      " 2   HP          800 non-null    int64\n",
      " 3   Attack      800 non-null    int64\n",
      " 4   Defense     800 non-null    int64\n",
      " 5   Sp. Atk     800 non-null    int64\n",
      " 6   Sp. Def     800 non-null    int64\n",
      " 7   Speed       800 non-null    int64\n",
      " 8   Generation  800 non-null    int64\n",
      " 9   Legendary   800 non-null    bool \n",
      "dtypes: bool(1), int64(9)\n",
      "memory usage: 57.2 KB\n"
     ]
    }
   ],
   "source": [
    "genertor_fake_data.df_ref.info()"
   ]
  },
  {
   "cell_type": "code",
   "execution_count": 78,
   "metadata": {},
   "outputs": [
    {
     "name": "stdout",
     "output_type": "stream",
     "text": [
      "<class 'pandas.core.frame.DataFrame'>\n",
      "Int64Index: 1000 entries, 0 to 499\n",
      "Data columns (total 10 columns):\n",
      " #   Column      Non-Null Count  Dtype\n",
      "---  ------      --------------  -----\n",
      " 0   #           1000 non-null   int64\n",
      " 1   Total       1000 non-null   int64\n",
      " 2   HP          1000 non-null   int64\n",
      " 3   Attack      1000 non-null   int64\n",
      " 4   Defense     1000 non-null   int64\n",
      " 5   Sp. Atk     1000 non-null   int64\n",
      " 6   Sp. Def     1000 non-null   int64\n",
      " 7   Speed       1000 non-null   int64\n",
      " 8   Generation  1000 non-null   int64\n",
      " 9   Legendary   1000 non-null   bool \n",
      "dtypes: bool(1), int64(9)\n",
      "memory usage: 79.1 KB\n"
     ]
    }
   ],
   "source": [
    "genertor_fake_data.df_samples.info()"
   ]
  },
  {
   "cell_type": "code",
   "execution_count": 79,
   "metadata": {},
   "outputs": [
    {
     "data": {
      "text/html": [
       "<div>\n",
       "<style scoped>\n",
       "    .dataframe tbody tr th:only-of-type {\n",
       "        vertical-align: middle;\n",
       "    }\n",
       "\n",
       "    .dataframe tbody tr th {\n",
       "        vertical-align: top;\n",
       "    }\n",
       "\n",
       "    .dataframe thead th {\n",
       "        text-align: right;\n",
       "    }\n",
       "</style>\n",
       "<table border=\"1\" class=\"dataframe\">\n",
       "  <thead>\n",
       "    <tr style=\"text-align: right;\">\n",
       "      <th></th>\n",
       "      <th>#</th>\n",
       "      <th>Total</th>\n",
       "      <th>HP</th>\n",
       "      <th>Attack</th>\n",
       "      <th>Defense</th>\n",
       "      <th>Sp. Atk</th>\n",
       "      <th>Sp. Def</th>\n",
       "      <th>Speed</th>\n",
       "      <th>Generation</th>\n",
       "      <th>Legendary</th>\n",
       "    </tr>\n",
       "  </thead>\n",
       "  <tbody>\n",
       "    <tr>\n",
       "      <th>0</th>\n",
       "      <td>456</td>\n",
       "      <td>691</td>\n",
       "      <td>98</td>\n",
       "      <td>151</td>\n",
       "      <td>65</td>\n",
       "      <td>170</td>\n",
       "      <td>85</td>\n",
       "      <td>132</td>\n",
       "      <td>3</td>\n",
       "      <td>False</td>\n",
       "    </tr>\n",
       "    <tr>\n",
       "      <th>1</th>\n",
       "      <td>705</td>\n",
       "      <td>528</td>\n",
       "      <td>80</td>\n",
       "      <td>52</td>\n",
       "      <td>79</td>\n",
       "      <td>98</td>\n",
       "      <td>112</td>\n",
       "      <td>69</td>\n",
       "      <td>5</td>\n",
       "      <td>False</td>\n",
       "    </tr>\n",
       "    <tr>\n",
       "      <th>2</th>\n",
       "      <td>309</td>\n",
       "      <td>602</td>\n",
       "      <td>105</td>\n",
       "      <td>75</td>\n",
       "      <td>101</td>\n",
       "      <td>132</td>\n",
       "      <td>137</td>\n",
       "      <td>96</td>\n",
       "      <td>2</td>\n",
       "      <td>False</td>\n",
       "    </tr>\n",
       "    <tr>\n",
       "      <th>3</th>\n",
       "      <td>791</td>\n",
       "      <td>804</td>\n",
       "      <td>172</td>\n",
       "      <td>178</td>\n",
       "      <td>162</td>\n",
       "      <td>136</td>\n",
       "      <td>99</td>\n",
       "      <td>97</td>\n",
       "      <td>6</td>\n",
       "      <td>False</td>\n",
       "    </tr>\n",
       "    <tr>\n",
       "      <th>4</th>\n",
       "      <td>360</td>\n",
       "      <td>580</td>\n",
       "      <td>78</td>\n",
       "      <td>144</td>\n",
       "      <td>78</td>\n",
       "      <td>117</td>\n",
       "      <td>52</td>\n",
       "      <td>105</td>\n",
       "      <td>2</td>\n",
       "      <td>False</td>\n",
       "    </tr>\n",
       "  </tbody>\n",
       "</table>\n",
       "</div>"
      ],
      "text/plain": [
       "     #  Total   HP  Attack  Defense  Sp. Atk  Sp. Def  Speed  Generation  \\\n",
       "0  456    691   98     151       65      170       85    132           3   \n",
       "1  705    528   80      52       79       98      112     69           5   \n",
       "2  309    602  105      75      101      132      137     96           2   \n",
       "3  791    804  172     178      162      136       99     97           6   \n",
       "4  360    580   78     144       78      117       52    105           2   \n",
       "\n",
       "   Legendary  \n",
       "0      False  \n",
       "1      False  \n",
       "2      False  \n",
       "3      False  \n",
       "4      False  "
      ]
     },
     "execution_count": 79,
     "metadata": {},
     "output_type": "execute_result"
    }
   ],
   "source": [
    "genertor_fake_data.df_samples.head()"
   ]
  },
  {
   "cell_type": "code",
   "execution_count": 80,
   "metadata": {},
   "outputs": [],
   "source": [
    "sampled_data = genertor_fake_data.get_dataclass_sampling()"
   ]
  },
  {
   "cell_type": "code",
   "execution_count": 93,
   "metadata": {},
   "outputs": [
    {
     "data": {
      "text/plain": [
       "['#',\n",
       " 'Total',\n",
       " 'HP',\n",
       " 'Attack',\n",
       " 'Defense',\n",
       " 'Sp. Atk',\n",
       " 'Sp. Def',\n",
       " 'Speed',\n",
       " 'Generation']"
      ]
     },
     "execution_count": 93,
     "metadata": {},
     "output_type": "execute_result"
    }
   ],
   "source": [
    "sampled_data.list_num_col"
   ]
  },
  {
   "cell_type": "code",
   "execution_count": 157,
   "metadata": {},
   "outputs": [],
   "source": [
    "pok_classifier = Classifier(df_train=sampled_data.train_data,\n",
    "                 num_features=sampled_data.list_num_col,\n",
    "                 cat_features=None,\n",
    "                 target=target,\n",
    "                pkl_file_path=MODEL_PATH + f'class_{target}_model.pkl',\n",
    "                iterations = 50, depth = 5)"
   ]
  },
  {
   "cell_type": "code",
   "execution_count": 158,
   "metadata": {},
   "outputs": [
    {
     "data": {
      "text/plain": [
       "([],\n",
       " ['#',\n",
       "  'Total',\n",
       "  'HP',\n",
       "  'Attack',\n",
       "  'Defense',\n",
       "  'Sp. Atk',\n",
       "  'Sp. Def',\n",
       "  'Speed',\n",
       "  'Generation'])"
      ]
     },
     "execution_count": 158,
     "metadata": {},
     "output_type": "execute_result"
    }
   ],
   "source": [
    "pok_classifier.cat_features, pok_classifier.num_features"
   ]
  },
  {
   "cell_type": "code",
   "execution_count": 159,
   "metadata": {},
   "outputs": [
    {
     "name": "stdout",
     "output_type": "stream",
     "text": [
      "0:\tlearn: 0.6750032\ttotal: 1.12ms\tremaining: 55ms\n",
      "1:\tlearn: 0.6663239\ttotal: 1.81ms\tremaining: 43.4ms\n",
      "2:\tlearn: 0.6557717\ttotal: 2.22ms\tremaining: 34.8ms\n",
      "3:\tlearn: 0.6522669\ttotal: 2.79ms\tremaining: 32.1ms\n",
      "4:\tlearn: 0.6398103\ttotal: 3.32ms\tremaining: 29.9ms\n",
      "5:\tlearn: 0.6368281\ttotal: 3.71ms\tremaining: 27.2ms\n",
      "6:\tlearn: 0.6281815\ttotal: 4.12ms\tremaining: 25.3ms\n",
      "7:\tlearn: 0.6194746\ttotal: 4.55ms\tremaining: 23.9ms\n",
      "8:\tlearn: 0.6062618\ttotal: 4.96ms\tremaining: 22.6ms\n",
      "9:\tlearn: 0.5922178\ttotal: 5.33ms\tremaining: 21.3ms\n",
      "10:\tlearn: 0.5842592\ttotal: 5.74ms\tremaining: 20.3ms\n",
      "11:\tlearn: 0.5729578\ttotal: 6.12ms\tremaining: 19.4ms\n",
      "12:\tlearn: 0.5532876\ttotal: 6.55ms\tremaining: 18.6ms\n",
      "13:\tlearn: 0.5404690\ttotal: 6.93ms\tremaining: 17.8ms\n",
      "14:\tlearn: 0.5259424\ttotal: 7.43ms\tremaining: 17.3ms\n",
      "15:\tlearn: 0.5159687\ttotal: 7.84ms\tremaining: 16.7ms\n",
      "16:\tlearn: 0.5064903\ttotal: 8.25ms\tremaining: 16ms\n",
      "17:\tlearn: 0.4990476\ttotal: 8.74ms\tremaining: 15.5ms\n",
      "18:\tlearn: 0.4962196\ttotal: 9.13ms\tremaining: 14.9ms\n",
      "19:\tlearn: 0.4892069\ttotal: 9.47ms\tremaining: 14.2ms\n",
      "20:\tlearn: 0.4851685\ttotal: 9.81ms\tremaining: 13.6ms\n",
      "21:\tlearn: 0.4818792\ttotal: 10.2ms\tremaining: 13ms\n",
      "22:\tlearn: 0.4772223\ttotal: 10.5ms\tremaining: 12.4ms\n",
      "23:\tlearn: 0.4645161\ttotal: 10.9ms\tremaining: 11.8ms\n",
      "24:\tlearn: 0.4590547\ttotal: 11.2ms\tremaining: 11.2ms\n",
      "25:\tlearn: 0.4516540\ttotal: 11.6ms\tremaining: 10.7ms\n",
      "26:\tlearn: 0.4466065\ttotal: 11.9ms\tremaining: 10.1ms\n",
      "27:\tlearn: 0.4389214\ttotal: 12.2ms\tremaining: 9.62ms\n",
      "28:\tlearn: 0.4296542\ttotal: 12.6ms\tremaining: 9.11ms\n",
      "29:\tlearn: 0.4198279\ttotal: 12.9ms\tremaining: 8.62ms\n",
      "30:\tlearn: 0.4100009\ttotal: 13.3ms\tremaining: 8.14ms\n",
      "31:\tlearn: 0.4039276\ttotal: 13.6ms\tremaining: 7.64ms\n",
      "32:\tlearn: 0.3974211\ttotal: 13.9ms\tremaining: 7.17ms\n",
      "33:\tlearn: 0.3916399\ttotal: 14.3ms\tremaining: 6.75ms\n",
      "34:\tlearn: 0.3815123\ttotal: 14.7ms\tremaining: 6.29ms\n",
      "35:\tlearn: 0.3747236\ttotal: 15.1ms\tremaining: 5.87ms\n",
      "36:\tlearn: 0.3705603\ttotal: 15.5ms\tremaining: 5.44ms\n",
      "37:\tlearn: 0.3693621\ttotal: 15.9ms\tremaining: 5.01ms\n",
      "38:\tlearn: 0.3613485\ttotal: 16.2ms\tremaining: 4.56ms\n",
      "39:\tlearn: 0.3603851\ttotal: 16.7ms\tremaining: 4.18ms\n",
      "40:\tlearn: 0.3516698\ttotal: 17.1ms\tremaining: 3.75ms\n",
      "41:\tlearn: 0.3423471\ttotal: 17.4ms\tremaining: 3.31ms\n",
      "42:\tlearn: 0.3417863\ttotal: 17.7ms\tremaining: 2.88ms\n",
      "43:\tlearn: 0.3383757\ttotal: 18ms\tremaining: 2.45ms\n",
      "44:\tlearn: 0.3329561\ttotal: 18.4ms\tremaining: 2.04ms\n",
      "45:\tlearn: 0.3314321\ttotal: 18.7ms\tremaining: 1.63ms\n",
      "46:\tlearn: 0.3293214\ttotal: 19ms\tremaining: 1.21ms\n",
      "47:\tlearn: 0.3209201\ttotal: 19.4ms\tremaining: 807us\n",
      "48:\tlearn: 0.3204672\ttotal: 19.7ms\tremaining: 402us\n",
      "49:\tlearn: 0.3114615\ttotal: 20.1ms\tremaining: 0us\n"
     ]
    }
   ],
   "source": [
    "pok_classifier.train()"
   ]
  },
  {
   "cell_type": "code",
   "execution_count": 160,
   "metadata": {},
   "outputs": [
    {
     "name": "stdout",
     "output_type": "stream",
     "text": [
      "Error occurred while pickling: Can't pickle <class 'training_script.Classifier'>: it's not the same object as training_script.Classifier\n"
     ]
    }
   ],
   "source": [
    "pok_classifier.serialize()"
   ]
  },
  {
   "cell_type": "code",
   "execution_count": 161,
   "metadata": {},
   "outputs": [],
   "source": [
    "prediction = pok_classifier.predict(sampled_data.test_data)\n",
    "prediction = [1 if e=='True' else 0 for e in prediction]"
   ]
  },
  {
   "cell_type": "code",
   "execution_count": 162,
   "metadata": {},
   "outputs": [
    {
     "data": {
      "text/plain": [
       "0.52"
      ]
     },
     "execution_count": 162,
     "metadata": {},
     "output_type": "execute_result"
    }
   ],
   "source": [
    "(prediction==sampled_data.test_data[target]).mean()"
   ]
  },
  {
   "cell_type": "markdown",
   "metadata": {},
   "source": [
    "### Creating marketing dataset"
   ]
  },
  {
   "cell_type": "code",
   "execution_count": 66,
   "metadata": {},
   "outputs": [],
   "source": [
    "import os"
   ]
  },
  {
   "cell_type": "code",
   "execution_count": 69,
   "metadata": {},
   "outputs": [
    {
     "data": {
      "text/plain": [
       "True"
      ]
     },
     "execution_count": 69,
     "metadata": {},
     "output_type": "execute_result"
    }
   ],
   "source": [
    "os.path.exists(DATA_PATH + 'bank.csv')"
   ]
  },
  {
   "cell_type": "code",
   "execution_count": 177,
   "metadata": {},
   "outputs": [],
   "source": [
    "bank = pd.read_csv(DATA_PATH + 'bank.csv')"
   ]
  },
  {
   "cell_type": "code",
   "execution_count": 178,
   "metadata": {},
   "outputs": [
    {
     "name": "stdout",
     "output_type": "stream",
     "text": [
      "<class 'pandas.core.frame.DataFrame'>\n",
      "RangeIndex: 11162 entries, 0 to 11161\n",
      "Data columns (total 17 columns):\n",
      " #   Column     Non-Null Count  Dtype \n",
      "---  ------     --------------  ----- \n",
      " 0   age        11162 non-null  int64 \n",
      " 1   job        11162 non-null  object\n",
      " 2   marital    11162 non-null  object\n",
      " 3   education  11162 non-null  object\n",
      " 4   default    11162 non-null  object\n",
      " 5   balance    11162 non-null  int64 \n",
      " 6   housing    11162 non-null  object\n",
      " 7   loan       11162 non-null  object\n",
      " 8   contact    11162 non-null  object\n",
      " 9   day        11162 non-null  int64 \n",
      " 10  month      11162 non-null  object\n",
      " 11  duration   11162 non-null  int64 \n",
      " 12  campaign   11162 non-null  int64 \n",
      " 13  pdays      11162 non-null  int64 \n",
      " 14  previous   11162 non-null  int64 \n",
      " 15  poutcome   11162 non-null  object\n",
      " 16  deposit    11162 non-null  object\n",
      "dtypes: int64(7), object(10)\n",
      "memory usage: 1.4+ MB\n"
     ]
    }
   ],
   "source": [
    "bank.info()"
   ]
  },
  {
   "cell_type": "code",
   "execution_count": 179,
   "metadata": {},
   "outputs": [
    {
     "data": {
      "text/plain": [
       "Index(['job', 'marital', 'education', 'housing', 'loan', 'contact', 'month',\n",
       "       'poutcome', 'deposit'],\n",
       "      dtype='object')"
      ]
     },
     "execution_count": 179,
     "metadata": {},
     "output_type": "execute_result"
    }
   ],
   "source": [
    "cat_cols = bank.select_dtypes('O').columns\n",
    "cat_cols = cat_cols.drop('default')\n",
    "cat_cols"
   ]
  },
  {
   "cell_type": "code",
   "execution_count": 180,
   "metadata": {},
   "outputs": [],
   "source": [
    "oe = OrdinalEncoder(dtype=np.int64, handle_unknown='use_encoded_value', unknown_value=-1)"
   ]
  },
  {
   "cell_type": "code",
   "execution_count": 181,
   "metadata": {},
   "outputs": [
    {
     "data": {
      "text/html": [
       "<div>\n",
       "<style scoped>\n",
       "    .dataframe tbody tr th:only-of-type {\n",
       "        vertical-align: middle;\n",
       "    }\n",
       "\n",
       "    .dataframe tbody tr th {\n",
       "        vertical-align: top;\n",
       "    }\n",
       "\n",
       "    .dataframe thead th {\n",
       "        text-align: right;\n",
       "    }\n",
       "</style>\n",
       "<table border=\"1\" class=\"dataframe\">\n",
       "  <thead>\n",
       "    <tr style=\"text-align: right;\">\n",
       "      <th></th>\n",
       "      <th>job</th>\n",
       "      <th>marital</th>\n",
       "      <th>education</th>\n",
       "      <th>housing</th>\n",
       "      <th>loan</th>\n",
       "      <th>contact</th>\n",
       "      <th>month</th>\n",
       "      <th>poutcome</th>\n",
       "      <th>deposit</th>\n",
       "    </tr>\n",
       "  </thead>\n",
       "  <tbody>\n",
       "    <tr>\n",
       "      <th>0</th>\n",
       "      <td>admin.</td>\n",
       "      <td>married</td>\n",
       "      <td>secondary</td>\n",
       "      <td>yes</td>\n",
       "      <td>no</td>\n",
       "      <td>unknown</td>\n",
       "      <td>may</td>\n",
       "      <td>unknown</td>\n",
       "      <td>yes</td>\n",
       "    </tr>\n",
       "    <tr>\n",
       "      <th>1</th>\n",
       "      <td>admin.</td>\n",
       "      <td>married</td>\n",
       "      <td>secondary</td>\n",
       "      <td>no</td>\n",
       "      <td>no</td>\n",
       "      <td>unknown</td>\n",
       "      <td>may</td>\n",
       "      <td>unknown</td>\n",
       "      <td>yes</td>\n",
       "    </tr>\n",
       "    <tr>\n",
       "      <th>2</th>\n",
       "      <td>technician</td>\n",
       "      <td>married</td>\n",
       "      <td>secondary</td>\n",
       "      <td>yes</td>\n",
       "      <td>no</td>\n",
       "      <td>unknown</td>\n",
       "      <td>may</td>\n",
       "      <td>unknown</td>\n",
       "      <td>yes</td>\n",
       "    </tr>\n",
       "    <tr>\n",
       "      <th>3</th>\n",
       "      <td>services</td>\n",
       "      <td>married</td>\n",
       "      <td>secondary</td>\n",
       "      <td>yes</td>\n",
       "      <td>no</td>\n",
       "      <td>unknown</td>\n",
       "      <td>may</td>\n",
       "      <td>unknown</td>\n",
       "      <td>yes</td>\n",
       "    </tr>\n",
       "    <tr>\n",
       "      <th>4</th>\n",
       "      <td>admin.</td>\n",
       "      <td>married</td>\n",
       "      <td>tertiary</td>\n",
       "      <td>no</td>\n",
       "      <td>no</td>\n",
       "      <td>unknown</td>\n",
       "      <td>may</td>\n",
       "      <td>unknown</td>\n",
       "      <td>yes</td>\n",
       "    </tr>\n",
       "  </tbody>\n",
       "</table>\n",
       "</div>"
      ],
      "text/plain": [
       "          job  marital  education housing loan  contact month poutcome deposit\n",
       "0      admin.  married  secondary     yes   no  unknown   may  unknown     yes\n",
       "1      admin.  married  secondary      no   no  unknown   may  unknown     yes\n",
       "2  technician  married  secondary     yes   no  unknown   may  unknown     yes\n",
       "3    services  married  secondary     yes   no  unknown   may  unknown     yes\n",
       "4      admin.  married   tertiary      no   no  unknown   may  unknown     yes"
      ]
     },
     "execution_count": 181,
     "metadata": {},
     "output_type": "execute_result"
    }
   ],
   "source": [
    "bank[cat_cols].head()"
   ]
  },
  {
   "cell_type": "code",
   "execution_count": 182,
   "metadata": {},
   "outputs": [],
   "source": [
    "bank[cat_cols] = oe.fit_transform(bank[cat_cols])"
   ]
  },
  {
   "cell_type": "code",
   "execution_count": 183,
   "metadata": {},
   "outputs": [
    {
     "data": {
      "text/html": [
       "<div>\n",
       "<style scoped>\n",
       "    .dataframe tbody tr th:only-of-type {\n",
       "        vertical-align: middle;\n",
       "    }\n",
       "\n",
       "    .dataframe tbody tr th {\n",
       "        vertical-align: top;\n",
       "    }\n",
       "\n",
       "    .dataframe thead th {\n",
       "        text-align: right;\n",
       "    }\n",
       "</style>\n",
       "<table border=\"1\" class=\"dataframe\">\n",
       "  <thead>\n",
       "    <tr style=\"text-align: right;\">\n",
       "      <th></th>\n",
       "      <th>job</th>\n",
       "      <th>marital</th>\n",
       "      <th>education</th>\n",
       "      <th>housing</th>\n",
       "      <th>loan</th>\n",
       "      <th>contact</th>\n",
       "      <th>month</th>\n",
       "      <th>poutcome</th>\n",
       "      <th>deposit</th>\n",
       "    </tr>\n",
       "  </thead>\n",
       "  <tbody>\n",
       "    <tr>\n",
       "      <th>0</th>\n",
       "      <td>0</td>\n",
       "      <td>1</td>\n",
       "      <td>1</td>\n",
       "      <td>1</td>\n",
       "      <td>0</td>\n",
       "      <td>2</td>\n",
       "      <td>8</td>\n",
       "      <td>3</td>\n",
       "      <td>1</td>\n",
       "    </tr>\n",
       "    <tr>\n",
       "      <th>1</th>\n",
       "      <td>0</td>\n",
       "      <td>1</td>\n",
       "      <td>1</td>\n",
       "      <td>0</td>\n",
       "      <td>0</td>\n",
       "      <td>2</td>\n",
       "      <td>8</td>\n",
       "      <td>3</td>\n",
       "      <td>1</td>\n",
       "    </tr>\n",
       "    <tr>\n",
       "      <th>2</th>\n",
       "      <td>9</td>\n",
       "      <td>1</td>\n",
       "      <td>1</td>\n",
       "      <td>1</td>\n",
       "      <td>0</td>\n",
       "      <td>2</td>\n",
       "      <td>8</td>\n",
       "      <td>3</td>\n",
       "      <td>1</td>\n",
       "    </tr>\n",
       "    <tr>\n",
       "      <th>3</th>\n",
       "      <td>7</td>\n",
       "      <td>1</td>\n",
       "      <td>1</td>\n",
       "      <td>1</td>\n",
       "      <td>0</td>\n",
       "      <td>2</td>\n",
       "      <td>8</td>\n",
       "      <td>3</td>\n",
       "      <td>1</td>\n",
       "    </tr>\n",
       "    <tr>\n",
       "      <th>4</th>\n",
       "      <td>0</td>\n",
       "      <td>1</td>\n",
       "      <td>2</td>\n",
       "      <td>0</td>\n",
       "      <td>0</td>\n",
       "      <td>2</td>\n",
       "      <td>8</td>\n",
       "      <td>3</td>\n",
       "      <td>1</td>\n",
       "    </tr>\n",
       "  </tbody>\n",
       "</table>\n",
       "</div>"
      ],
      "text/plain": [
       "   job  marital  education  housing  loan  contact  month  poutcome  deposit\n",
       "0    0        1          1        1     0        2      8         3        1\n",
       "1    0        1          1        0     0        2      8         3        1\n",
       "2    9        1          1        1     0        2      8         3        1\n",
       "3    7        1          1        1     0        2      8         3        1\n",
       "4    0        1          2        0     0        2      8         3        1"
      ]
     },
     "execution_count": 183,
     "metadata": {},
     "output_type": "execute_result"
    }
   ],
   "source": [
    "bank[cat_cols].head()"
   ]
  },
  {
   "cell_type": "code",
   "execution_count": 184,
   "metadata": {},
   "outputs": [
    {
     "data": {
      "text/html": [
       "<div>\n",
       "<style scoped>\n",
       "    .dataframe tbody tr th:only-of-type {\n",
       "        vertical-align: middle;\n",
       "    }\n",
       "\n",
       "    .dataframe tbody tr th {\n",
       "        vertical-align: top;\n",
       "    }\n",
       "\n",
       "    .dataframe thead th {\n",
       "        text-align: right;\n",
       "    }\n",
       "</style>\n",
       "<table border=\"1\" class=\"dataframe\">\n",
       "  <thead>\n",
       "    <tr style=\"text-align: right;\">\n",
       "      <th></th>\n",
       "      <th>age</th>\n",
       "      <th>job</th>\n",
       "      <th>marital</th>\n",
       "      <th>education</th>\n",
       "      <th>default</th>\n",
       "      <th>balance</th>\n",
       "      <th>housing</th>\n",
       "      <th>loan</th>\n",
       "      <th>contact</th>\n",
       "      <th>day</th>\n",
       "      <th>month</th>\n",
       "      <th>duration</th>\n",
       "      <th>campaign</th>\n",
       "      <th>pdays</th>\n",
       "      <th>previous</th>\n",
       "      <th>poutcome</th>\n",
       "      <th>deposit</th>\n",
       "    </tr>\n",
       "  </thead>\n",
       "  <tbody>\n",
       "    <tr>\n",
       "      <th>0</th>\n",
       "      <td>59</td>\n",
       "      <td>0</td>\n",
       "      <td>1</td>\n",
       "      <td>1</td>\n",
       "      <td>no</td>\n",
       "      <td>2343</td>\n",
       "      <td>1</td>\n",
       "      <td>0</td>\n",
       "      <td>2</td>\n",
       "      <td>5</td>\n",
       "      <td>8</td>\n",
       "      <td>1042</td>\n",
       "      <td>1</td>\n",
       "      <td>-1</td>\n",
       "      <td>0</td>\n",
       "      <td>3</td>\n",
       "      <td>1</td>\n",
       "    </tr>\n",
       "    <tr>\n",
       "      <th>1</th>\n",
       "      <td>56</td>\n",
       "      <td>0</td>\n",
       "      <td>1</td>\n",
       "      <td>1</td>\n",
       "      <td>no</td>\n",
       "      <td>45</td>\n",
       "      <td>0</td>\n",
       "      <td>0</td>\n",
       "      <td>2</td>\n",
       "      <td>5</td>\n",
       "      <td>8</td>\n",
       "      <td>1467</td>\n",
       "      <td>1</td>\n",
       "      <td>-1</td>\n",
       "      <td>0</td>\n",
       "      <td>3</td>\n",
       "      <td>1</td>\n",
       "    </tr>\n",
       "    <tr>\n",
       "      <th>2</th>\n",
       "      <td>41</td>\n",
       "      <td>9</td>\n",
       "      <td>1</td>\n",
       "      <td>1</td>\n",
       "      <td>no</td>\n",
       "      <td>1270</td>\n",
       "      <td>1</td>\n",
       "      <td>0</td>\n",
       "      <td>2</td>\n",
       "      <td>5</td>\n",
       "      <td>8</td>\n",
       "      <td>1389</td>\n",
       "      <td>1</td>\n",
       "      <td>-1</td>\n",
       "      <td>0</td>\n",
       "      <td>3</td>\n",
       "      <td>1</td>\n",
       "    </tr>\n",
       "    <tr>\n",
       "      <th>3</th>\n",
       "      <td>55</td>\n",
       "      <td>7</td>\n",
       "      <td>1</td>\n",
       "      <td>1</td>\n",
       "      <td>no</td>\n",
       "      <td>2476</td>\n",
       "      <td>1</td>\n",
       "      <td>0</td>\n",
       "      <td>2</td>\n",
       "      <td>5</td>\n",
       "      <td>8</td>\n",
       "      <td>579</td>\n",
       "      <td>1</td>\n",
       "      <td>-1</td>\n",
       "      <td>0</td>\n",
       "      <td>3</td>\n",
       "      <td>1</td>\n",
       "    </tr>\n",
       "    <tr>\n",
       "      <th>4</th>\n",
       "      <td>54</td>\n",
       "      <td>0</td>\n",
       "      <td>1</td>\n",
       "      <td>2</td>\n",
       "      <td>no</td>\n",
       "      <td>184</td>\n",
       "      <td>0</td>\n",
       "      <td>0</td>\n",
       "      <td>2</td>\n",
       "      <td>5</td>\n",
       "      <td>8</td>\n",
       "      <td>673</td>\n",
       "      <td>2</td>\n",
       "      <td>-1</td>\n",
       "      <td>0</td>\n",
       "      <td>3</td>\n",
       "      <td>1</td>\n",
       "    </tr>\n",
       "  </tbody>\n",
       "</table>\n",
       "</div>"
      ],
      "text/plain": [
       "   age  job  marital  education default  balance  housing  loan  contact  day  \\\n",
       "0   59    0        1          1      no     2343        1     0        2    5   \n",
       "1   56    0        1          1      no       45        0     0        2    5   \n",
       "2   41    9        1          1      no     1270        1     0        2    5   \n",
       "3   55    7        1          1      no     2476        1     0        2    5   \n",
       "4   54    0        1          2      no      184        0     0        2    5   \n",
       "\n",
       "   month  duration  campaign  pdays  previous  poutcome  deposit  \n",
       "0      8      1042         1     -1         0         3        1  \n",
       "1      8      1467         1     -1         0         3        1  \n",
       "2      8      1389         1     -1         0         3        1  \n",
       "3      8       579         1     -1         0         3        1  \n",
       "4      8       673         2     -1         0         3        1  "
      ]
     },
     "execution_count": 184,
     "metadata": {},
     "output_type": "execute_result"
    }
   ],
   "source": [
    "bank.head()"
   ]
  },
  {
   "cell_type": "code",
   "execution_count": 185,
   "metadata": {},
   "outputs": [
    {
     "data": {
      "text/plain": [
       "['../models/bank_ordinal_encoder.pkl']"
      ]
     },
     "execution_count": 185,
     "metadata": {},
     "output_type": "execute_result"
    }
   ],
   "source": [
    "joblib.dump(oe, MODEL_PATH+ 'bank_ordinal_encoder.pkl')"
   ]
  },
  {
   "cell_type": "code",
   "execution_count": 186,
   "metadata": {},
   "outputs": [],
   "source": [
    "bank.to_csv(DATA_PATH + 'bank_num.csv', index = False)"
   ]
  },
  {
   "cell_type": "code",
   "execution_count": 187,
   "metadata": {},
   "outputs": [
    {
     "data": {
      "text/plain": [
       "age           int64\n",
       "job           int64\n",
       "marital       int64\n",
       "education     int64\n",
       "default      object\n",
       "balance       int64\n",
       "housing       int64\n",
       "loan          int64\n",
       "contact       int64\n",
       "day           int64\n",
       "month         int64\n",
       "duration      int64\n",
       "campaign      int64\n",
       "pdays         int64\n",
       "previous      int64\n",
       "poutcome      int64\n",
       "deposit       int64\n",
       "dtype: object"
      ]
     },
     "execution_count": 187,
     "metadata": {},
     "output_type": "execute_result"
    }
   ],
   "source": [
    "bank.dtypes"
   ]
  },
  {
   "cell_type": "code",
   "execution_count": null,
   "metadata": {},
   "outputs": [],
   "source": []
  }
 ],
 "metadata": {
  "kernelspec": {
   "display_name": "Python 3",
   "language": "python",
   "name": "python3"
  },
  "language_info": {
   "codemirror_mode": {
    "name": "ipython",
    "version": 3
   },
   "file_extension": ".py",
   "mimetype": "text/x-python",
   "name": "python",
   "nbconvert_exporter": "python",
   "pygments_lexer": "ipython3",
   "version": "3.9.6"
  },
  "orig_nbformat": 4
 },
 "nbformat": 4,
 "nbformat_minor": 2
}
