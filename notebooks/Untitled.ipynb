{
 "cells": [
  {
   "cell_type": "code",
   "execution_count": 6,
   "id": "dbb11436-f7de-4d50-8c94-1877521b1605",
   "metadata": {},
   "outputs": [
    {
     "name": "stdout",
     "output_type": "stream",
     "text": [
      "Connection successful\n"
     ]
    }
   ],
   "source": [
    "import pandas as pd\n",
    "from influxdb_client import InfluxDBClient\n",
    "from pulsar_data_collection.database_connectors.influxdb import Influxdb\n",
    "import os\n",
    "\n",
    "# Set up InfluxDB connection\n",
    "token = os.getenv(\"DOCKER_INFLUXDB_INIT_ADMIN_TOKEN\")\n",
    "org = os.getenv(\"DOCKER_INFLUXDB_INIT_ORG\")\n",
    "bucket = os.getenv(\"DOCKER_INFLUXDB_INIT_BUCKET\")\n",
    "url = 'http://influxdb:8086'\n",
    "\n",
    "# Create an instance of Influxdb from your package\n",
    "influxdb = Influxdb().get_database_actions()\n",
    "\n",
    "db_login = {\n",
    "    \"url\": url,\n",
    "    \"token\": token,\n",
    "    \"org\": org,\n",
    "    \"bucket_name\": bucket\n",
    "}\n",
    "\n",
    "# Test InfluxDB connection\n",
    "db_connection = influxdb.make_connection(**db_login)\n",
    "if db_connection:\n",
    "    print(\"Connection successful\")\n",
    "else:\n",
    "    print(\"Connection failed\")"
   ]
  },
  {
   "cell_type": "code",
   "execution_count": 7,
   "id": "63d36ed7-d65e-49b9-bd22-2a391f9aefc1",
   "metadata": {},
   "outputs": [
    {
     "name": "stdout",
     "output_type": "stream",
     "text": [
      "_tasks\n",
      "_monitoring\n",
      "demo\n"
     ]
    }
   ],
   "source": [
    "# Print the existing bucket names\n",
    "client = InfluxDBClient(url=url, token=token, org=org)\n",
    "\n",
    "buckets_api = client.buckets_api()\n",
    "buckets = buckets_api.find_buckets()\n",
    "\n",
    "for bucket in buckets.buckets:\n",
    "    print(bucket.name)"
   ]
  },
  {
   "cell_type": "code",
   "execution_count": 2,
   "id": "ea72c1d0-53c3-44c1-a7f4-a320c5172691",
   "metadata": {},
   "outputs": [
    {
     "ename": "ModuleNotFoundError",
     "evalue": "No module named 'gen_data_and_simulate_drift'",
     "output_type": "error",
     "traceback": [
      "\u001b[0;31m---------------------------------------------------------------------------\u001b[0m",
      "\u001b[0;31mModuleNotFoundError\u001b[0m                       Traceback (most recent call last)",
      "Cell \u001b[0;32mIn[2], line 1\u001b[0m\n\u001b[0;32m----> 1\u001b[0m \u001b[38;5;28;01mfrom\u001b[39;00m \u001b[38;5;21;01mgen_data_and_simulate_drift\u001b[39;00m \u001b[38;5;28;01mimport\u001b[39;00m DriftIntensity, DriftSimulator, GenerateFakeData\n\u001b[1;32m      2\u001b[0m \u001b[38;5;28;01mfrom\u001b[39;00m \u001b[38;5;21;01mtraining_script\u001b[39;00m \u001b[38;5;28;01mimport\u001b[39;00m Classifier\n",
      "\u001b[0;31mModuleNotFoundError\u001b[0m: No module named 'gen_data_and_simulate_drift'"
     ]
    }
   ],
   "source": [
    "from gen_data_and_simulate_drift import DriftIntensity, DriftSimulator, GenerateFakeData\n",
    "from training_script import Classifier"
   ]
  },
  {
   "cell_type": "code",
   "execution_count": null,
   "id": "4cafc208-eb41-4913-b73b-f3e0e403373f",
   "metadata": {},
   "outputs": [],
   "source": [
    "pokemon_test_data='pokemon.csv'\n",
    "SAMPLE_SIZE=1000\n",
    "target = 'Legendary'\n",
    "genertor_fake_data = GenerateFakeData(path_ref_data=pokemon_test_data, sample_size=SAMPLE_SIZE, target=target)\n",
    "sampled_data = genertor_fake_data.get_dataclass_sampling()"
   ]
  },
  {
   "cell_type": "code",
   "execution_count": null,
   "id": "a017fd26-803e-4b60-bccb-2d7f533a574e",
   "metadata": {},
   "outputs": [],
   "source": [
    "# if the task is classification\n",
    "pok_classifier = Classifier(df_train=sampled_data.train_data,\n",
    "            num_features=sampled_data.list_num_col,\n",
    "            cat_features=None,\n",
    "            target=target,\n",
    "            pkl_file_path=f'class_{target}_model.pkl')\n",
    "pok_classifier.train()\n",
    "pok_classifier.serialize()"
   ]
  },
  {
   "cell_type": "code",
   "execution_count": null,
   "id": "ad1260bc-10b7-4258-953e-d35c1feb28dc",
   "metadata": {},
   "outputs": [],
   "source": []
  }
 ],
 "metadata": {
  "kernelspec": {
   "display_name": "Python 3 (ipykernel)",
   "language": "python",
   "name": "python3"
  },
  "language_info": {
   "codemirror_mode": {
    "name": "ipython",
    "version": 3
   },
   "file_extension": ".py",
   "mimetype": "text/x-python",
   "name": "python",
   "nbconvert_exporter": "python",
   "pygments_lexer": "ipython3",
   "version": "3.9.6"
  }
 },
 "nbformat": 4,
 "nbformat_minor": 5
}
