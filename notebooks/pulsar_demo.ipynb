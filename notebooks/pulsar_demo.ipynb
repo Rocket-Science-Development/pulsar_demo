{
 "cells": [
  {
   "cell_type": "code",
   "execution_count": 1,
   "id": "ef22a3ea-0cd0-4e4a-aa08-b944ec85362c",
   "metadata": {},
   "outputs": [
    {
     "name": "stdout",
     "output_type": "stream",
     "text": [
      "mytoken pulsarml demo\n",
      "Connection successful\n"
     ]
    }
   ],
   "source": [
    "import pandas as pd\n",
    "from influxdb_client import InfluxDBClient\n",
    "from pulsar_data_collection.database_connectors.influxdb import Influxdb\n",
    "import os\n",
    "\n",
    "# Set up InfluxDB connection\n",
    "token = os.getenv(\"DOCKER_INFLUXDB_INIT_ADMIN_TOKEN\")\n",
    "org = os.getenv(\"DOCKER_INFLUXDB_INIT_ORG\")\n",
    "bucket_name = os.getenv(\"DOCKER_INFLUXDB_INIT_BUCKET\")\n",
    "# token = 'mytoken'\n",
    "# org = 'pulsarml'\n",
    "# bucket_name = 'demo'\n",
    "url = 'http://influxdb:8086'\n",
    "\n",
    "print(token, org, bucket_name)\n",
    "# Create an instance of Influxdb from your package\n",
    "influxdb = Influxdb().get_database_actions()\n",
    "\n",
    "db_login = {\n",
    "    \"url\": url,\n",
    "    \"token\": token,\n",
    "    \"org\": org,\n",
    "    \"bucket_name\": bucket_name\n",
    "}\n",
    "\n",
    "# Test InfluxDB connection\n",
    "db_connection = influxdb.make_connection(**db_login)\n",
    "if db_connection:\n",
    "    print(\"Connection successful\")\n",
    "else:\n",
    "    print(\"Connection failed\")"
   ]
  },
  {
   "cell_type": "code",
   "execution_count": 2,
   "id": "24a1f46d-d2a6-4c1b-bb06-0086c3d7e33a",
   "metadata": {},
   "outputs": [
    {
     "name": "stdout",
     "output_type": "stream",
     "text": [
      "_tasks\n",
      "_monitoring\n",
      "demo\n"
     ]
    }
   ],
   "source": [
    "# Print the existing bucket names\n",
    "client = InfluxDBClient(url=url, token=token, org=org)\n",
    "\n",
    "buckets_api = client.buckets_api()\n",
    "buckets = buckets_api.find_buckets()\n",
    "\n",
    "for bucket in buckets.buckets:\n",
    "    print(bucket.name)"
   ]
  },
  {
   "cell_type": "code",
   "execution_count": 3,
   "id": "5adf8f45-69b2-48b8-a35a-b5a5a17fa509",
   "metadata": {},
   "outputs": [],
   "source": [
    "import sys\n",
    "sys.path.append('../src/')\n",
    "\n",
    "from gen_data_and_simulate_drift import DriftIntensity, DriftSimulator, GenerateFakeData\n",
    "from training_script import Classifier"
   ]
  },
  {
   "cell_type": "code",
   "execution_count": 4,
   "id": "83cd107b-fbe8-4af8-a8f7-87774c1682c7",
   "metadata": {},
   "outputs": [
    {
     "name": "stdout",
     "output_type": "stream",
     "text": [
      "Legendary\n"
     ]
    }
   ],
   "source": [
    "pokemon_test_data='pokemon.csv'\n",
    "SAMPLE_SIZE=1000\n",
    "target = 'Legendary'\n",
    "genertor_fake_data = GenerateFakeData(path_ref_data=pokemon_test_data, sample_size=SAMPLE_SIZE, target=target)\n",
    "sampled_data = genertor_fake_data.get_dataclass_sampling()"
   ]
  },
  {
   "cell_type": "code",
   "execution_count": 5,
   "id": "86ac877a-0a09-4d51-8bba-f0e11e4498f9",
   "metadata": {},
   "outputs": [
    {
     "name": "stdout",
     "output_type": "stream",
     "text": [
      "0:\tlearn: 0.1323238\ttotal: 110ms\tremaining: 110ms\n",
      "1:\tlearn: 0.0472178\ttotal: 115ms\tremaining: 0us\n"
     ]
    }
   ],
   "source": [
    "# if the task is classification\n",
    "pok_classifier = Classifier(df_train=sampled_data.train_data,\n",
    "            num_features=sampled_data.list_num_col,\n",
    "            cat_features=None,\n",
    "            target=target,\n",
    "            pkl_file_path=f'class_{target}_model.pkl')\n",
    "pok_classifier.train()\n",
    "pok_classifier.serialize()"
   ]
  },
  {
   "cell_type": "code",
   "execution_count": 6,
   "id": "6bd82803-80bc-4efb-9b74-4c58986d5a8a",
   "metadata": {},
   "outputs": [
    {
     "name": "stdout",
     "output_type": "stream",
     "text": [
      "number of columns to drift is : 1\n",
      "select random column to drift ...\n",
      "Drifting column Total\n",
      "info: #                      int64\n",
      "Total                  int64\n",
      "HP                     int64\n",
      "Attack                 int64\n",
      "Defense                int64\n",
      "Sp. Atk                int64\n",
      "Sp. Def                int64\n",
      "Speed                  int64\n",
      "Generation             int64\n",
      "Legendary               bool\n",
      "timestamp     datetime64[ns]\n",
      "dtype: object\n",
      "drift data:        #  Total   HP  Attack  Defense  Sp. Atk  Sp. Def  Speed  Generation  \\\n",
      "81   466   1182  107     170      107      175      108     86           3   \n",
      "639  495   1079   70      64       53      105       73     66           3   \n",
      "521  422    853   72      63      120       77      108    108           3   \n",
      "953  263   1341   59     155      196       80       72     66           1   \n",
      "822  430    806   87     115       73      139       80    121           3   \n",
      "..   ...    ...  ...     ...      ...      ...      ...    ...         ...   \n",
      "294  633    889  109     107       70      132       84    103           4   \n",
      "655  310   1068   64     100      157      128       91     60           2   \n",
      "999  108    655   50      54       55       95       97     33           1   \n",
      "591  731   1047   90     108       61      180      111     85           6   \n",
      "679  121    474   93     112       72      152       77    128           0   \n",
      "\n",
      "     Legendary                  timestamp  \n",
      "81        True 2023-06-09 15:36:54.372482  \n",
      "639      False 2023-06-09 15:36:54.372482  \n",
      "521       True 2023-06-09 15:36:54.372482  \n",
      "953       True 2023-06-09 15:36:54.372482  \n",
      "822       True 2023-06-09 15:36:54.372482  \n",
      "..         ...                        ...  \n",
      "294       True 2023-06-09 15:36:54.372482  \n",
      "655      False 2023-06-09 15:36:54.372482  \n",
      "999      False 2023-06-09 15:36:54.372482  \n",
      "591       True 2023-06-09 15:36:54.372482  \n",
      "679       True 2023-06-09 15:36:54.372482  \n",
      "\n",
      "[400 rows x 11 columns]\n",
      "prediction: [1 0 1 1 1 0 0 1 1 1 1 1 0 0 1 1 0 0 0 1 1 1 0 0 1 1 1 1 1 1 0 0 0 1 1 1 0\n",
      " 0 0 1 1 0 0 1 0 0 1 1 0 1 1 1 0 0 0 0 0 0 0 0 1 0 1 0 0 0 0 1 0 1 1 1 1 1\n",
      " 0 0 0 1 1 0 0 0 1 1 0 0 1 1 1 1 1 1 1 1 1 1 0 0 0 1 1 0 1 1 1 1 0 1 1 0 1\n",
      " 1 0 0 1 0 1 1 0 0 0 0 0 0 0 1 1 1 0 0 0 1 0 0 1 0 1 1 1 0 0 0 1 0 0 0 1 1\n",
      " 1 1 0 0 0 0 0 0 1 1 1 1 0 1 1 0 0 1 0 1 0 0 1 1 0 1 0 1 0 1 1 0 1 0 1 1 1\n",
      " 0 1 0 0 0 1 1 1 1 0 1 1 0 0 0 0 0 1 1 1 1 1 0 0 1 1 1 0 0 1 0 1 1 0 1 1 0\n",
      " 1 0 0 1 1 1 0 1 0 1 1 0 0 0 0 1 1 1 0 0 1 1 1 0 1 0 1 0 1 0 1 1 1 1 1 1 0\n",
      " 1 1 0 0 1 0 0 0 0 1 0 1 1 0 1 0 1 0 1 0 0 1 1 1 0 0 0 0 1 1 0 0 1 0 0 1 1\n",
      " 1 0 1 1 0 1 1 0 0 0 0 1 0 0 0 1 1 1 1 0 1 1 0 0 0 0 0 1 1 1 0 0 1 1 0 0 1\n",
      " 0 0 0 0 0 0 0 0 1 0 1 0 0 1 1 0 1 0 1 0 1 1 0 0 0 0 0 1 0 0 0 1 1 1 0 0 0\n",
      " 1 0 0 1 1 0 0 0 1 1 0 1 0 1 0 0 1 1 1 0 1 1 1 0 1 1 0 0 1 1]\n"
     ]
    }
   ],
   "source": [
    "import numpy\n",
    "from datetime import datetime\n",
    "drift_sim_info = DriftSimulator(sampled_data, nb_cols_to_drift=1, drift_intensity=DriftIntensity.MODERATE)\n",
    "# to get test_data after drifting\n",
    "   \n",
    "df_test_drifted = drift_sim_info.get_test_data_drifted()\n",
    "df_test_drifted[\"timestamp\"] = datetime.now()\n",
    "print('info:',df_test_drifted.dtypes)\n",
    "print('drift data:',df_test_drifted)\n",
    "# df_test_drifted[target] = df_test_drifted[target].astype(int)\n",
    "\n",
    "prediction = pok_classifier.predict(df_test=df_test_drifted)\n",
    "prediction_int = [1 if e=='True' else 0 for e in prediction]\n",
    "prediction_numpy = numpy.asarray(prediction_int)\n",
    "print('prediction:',prediction_numpy)"
   ]
  },
  {
   "cell_type": "code",
   "execution_count": 7,
   "id": "f20b4235-4893-48ac-b9c7-da398ba10c89",
   "metadata": {},
   "outputs": [
    {
     "name": "stdout",
     "output_type": "stream",
     "text": [
      "Processing ./pulsar_data_collection-0.0.0-py3-none-any.whl\n",
      "Installing collected packages: pulsar-data-collection\n",
      "  Attempting uninstall: pulsar-data-collection\n",
      "    Found existing installation: pulsar-data-collection 0.0.0\n",
      "    Uninstalling pulsar-data-collection-0.0.0:\n",
      "      Successfully uninstalled pulsar-data-collection-0.0.0\n",
      "Successfully installed pulsar-data-collection-0.0.0\n",
      "\u001b[33mWARNING: Running pip as the 'root' user can result in broken permissions and conflicting behaviour with the system package manager. It is recommended to use a virtual environment instead: https://pip.pypa.io/warnings/venv\u001b[0m\u001b[33m\n",
      "\u001b[0m"
     ]
    }
   ],
   "source": [
    "!pip install pulsar_data_collection-0.0.0-py3-none-any.whl --force-reinstall\n",
    "\n",
    "from pulsar_data_collection import config\n",
    "from pulsar_data_collection.models import DataWithPrediction, PulseParameters\n",
    "from pulsar_data_collection.pulse import Pulse"
   ]
  },
  {
   "cell_type": "code",
   "execution_count": 8,
   "id": "b0875ef5-31c9-4b57-bbc7-8ce6bc6bcec7",
   "metadata": {},
   "outputs": [],
   "source": [
    "params = PulseParameters(\n",
    "    model_id=\"mod1\",\n",
    "    model_version=\"ver1\",\n",
    "    data_id=\"dat1\",\n",
    "    reference_data_storage=pokemon_test_data,\n",
    "    target_name=\"Legendary\",\n",
    "    storage_engine=\"influxdb\",\n",
    "    timestamp_column_name=\"timestamp\",\n",
    "    login=db_login,\n",
    "    other_labels={\"timezone\": \"EST\"},\n",
    ")"
   ]
  },
  {
   "cell_type": "code",
   "execution_count": 9,
   "id": "2c0e8cb6-adbe-4b2a-be35-1d69a22bd761",
   "metadata": {},
   "outputs": [],
   "source": [
    "pulse = Pulse(data=params)"
   ]
  },
  {
   "cell_type": "code",
   "execution_count": 10,
   "id": "36462378-49ce-45eb-925b-dea3fead8d60",
   "metadata": {},
   "outputs": [
    {
     "name": "stdout",
     "output_type": "stream",
     "text": [
      "prediction_id=None timestamp=datetime.datetime(2023, 6, 9, 15, 37, 9, tzinfo=datetime.timezone.utc) predictions=     prediction\n",
      "0             1\n",
      "1             0\n",
      "2             1\n",
      "3             1\n",
      "4             1\n",
      "..          ...\n",
      "395           1\n",
      "396           0\n",
      "397           0\n",
      "398           1\n",
      "399           1\n",
      "\n",
      "[400 rows x 1 columns] data_points=       #  Total   HP  Attack  Defense  Sp. Atk  Sp. Def  Speed  Generation  \\\n",
      "0    466   1182  107     170      107      175      108     86           3   \n",
      "1    495   1079   70      64       53      105       73     66           3   \n",
      "2    422    853   72      63      120       77      108    108           3   \n",
      "3    263   1341   59     155      196       80       72     66           1   \n",
      "4    430    806   87     115       73      139       80    121           3   \n",
      "..   ...    ...  ...     ...      ...      ...      ...    ...         ...   \n",
      "395  633    889  109     107       70      132       84    103           4   \n",
      "396  310   1068   64     100      157      128       91     60           2   \n",
      "397  108    655   50      54       55       95       97     33           1   \n",
      "398  731   1047   90     108       61      180      111     85           6   \n",
      "399  121    474   93     112       72      152       77    128           0   \n",
      "\n",
      "     Legendary                  timestamp  \n",
      "0         True 2023-06-09 15:36:54.372482  \n",
      "1        False 2023-06-09 15:36:54.372482  \n",
      "2         True 2023-06-09 15:36:54.372482  \n",
      "3         True 2023-06-09 15:36:54.372482  \n",
      "4         True 2023-06-09 15:36:54.372482  \n",
      "..         ...                        ...  \n",
      "395       True 2023-06-09 15:36:54.372482  \n",
      "396      False 2023-06-09 15:36:54.372482  \n",
      "397      False 2023-06-09 15:36:54.372482  \n",
      "398       True 2023-06-09 15:36:54.372482  \n",
      "399       True 2023-06-09 15:36:54.372482  \n",
      "\n",
      "[400 rows x 11 columns] features_names=['#', 'Total', 'HP', 'Attack', 'Defense', 'Sp. Atk', 'Sp. Def', 'Speed', 'Generation', 'Legendary', 'timestamp']\n"
     ]
    }
   ],
   "source": [
    "from datetime import timezone\n",
    "\n",
    "if not df_test_drifted.index.is_unique:\n",
    "    df_test_drifted = df_test_drifted.reset_index(drop=True)\n",
    "\n",
    "time = datetime.now(timezone.utc).strftime(\"%Y-%m-%dT%H:%M:%SZ\")\n",
    "capture_params = DataWithPrediction(\n",
    "    data_points=df_test_drifted,\n",
    "    predictions=pd.DataFrame(prediction_numpy, columns=[\"prediction\"]),\n",
    "    timestamp=time,\n",
    "    features_names=df_test_drifted.columns.tolist(),\n",
    ")\n",
    "\n",
    "print(capture_params)"
   ]
  },
  {
   "cell_type": "code",
   "execution_count": 11,
   "id": "cb6d74b0-c623-4b2e-bc4c-55c913619619",
   "metadata": {},
   "outputs": [
    {
     "name": "stdout",
     "output_type": "stream",
     "text": [
      "Written batch: ('demo', 'pulsarml', 'ns'). \n",
      "\n"
     ]
    }
   ],
   "source": [
    "pulse.capture_data(data=capture_params)"
   ]
  }
 ],
 "metadata": {
  "kernelspec": {
   "display_name": "Python 3 (ipykernel)",
   "language": "python",
   "name": "python3"
  },
  "language_info": {
   "codemirror_mode": {
    "name": "ipython",
    "version": 3
   },
   "file_extension": ".py",
   "mimetype": "text/x-python",
   "name": "python",
   "nbconvert_exporter": "python",
   "pygments_lexer": "ipython3",
   "version": "3.9.6"
  }
 },
 "nbformat": 4,
 "nbformat_minor": 5
}
